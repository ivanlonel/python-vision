{
 "cells": [
  {
   "cell_type": "markdown",
   "metadata": {},
   "source": [
    "Para executar o script abaixo:\n",
    "\n",
    "1. [Selecionar ou criar um novo projeto Google Cloud.](https://console.cloud.google.com/project)\n",
    "2. [Habilitar a cobrança para o projeto.](https://cloud.google.com/billing/docs/how-to/modify-project#enable_billing_for_a_project)\n",
    "3. [Habilitar a API Google Cloud Vision.](https://cloud.google.com/vision)\n",
    "4. [Configurar autenticação.](https://googleapis.dev/python/google-api-core/latest/auth.html)\n",
    "5. [Baixar o arquivo json da chave privada da conta de serviço do Google Cloud e renomeá-lo para google_key.json na pasta atual.](https://googleapis.dev/python/google-auth/latest/user-guide.html#service-account-private-key-files)\n",
    "6. Instalar o pacote Python: `pip install google-cloud-vision`"
   ]
  },
  {
   "cell_type": "code",
   "execution_count": 7,
   "metadata": {},
   "outputs": [],
   "source": [
    "from google.oauth2 import service_account\n",
    "\n",
    "credentials = service_account.Credentials.from_service_account_file('google_key.json')"
   ]
  },
  {
   "cell_type": "code",
   "execution_count": 8,
   "metadata": {},
   "outputs": [],
   "source": [
    "from google.cloud import vision\n",
    "\n",
    "def detect_text(path):\n",
    "    \"\"\"Detecta texto em um arquivo de imagem.\n",
    "    https://github.com/googleapis/python-vision/blob/HEAD/samples/snippets/detect/detect.py\"\"\"\n",
    "\n",
    "    client = vision.ImageAnnotatorClient(credentials=credentials)\n",
    "\n",
    "    with open(path, 'rb') as image_file:\n",
    "        content = image_file.read()\n",
    "\n",
    "    image = vision.Image(content=content)\n",
    "\n",
    "    response = client.text_detection(image=image)\n",
    "    texts = response.text_annotations\n",
    "    print('Texts:')\n",
    "\n",
    "    for text in texts:\n",
    "        print('\\n\"{}\"'.format(text.description))\n",
    "\n",
    "        vertices = (['({},{})'.format(vertex.x, vertex.y)\n",
    "                    for vertex in text.bounding_poly.vertices])\n",
    "\n",
    "        print('bounds: {}'.format(','.join(vertices)))\n",
    "\n",
    "    if response.error.message:\n",
    "        raise Exception(\n",
    "            '{}\\nFor more info on error messages, check: '\n",
    "            'https://cloud.google.com/apis/design/errors'.format(\n",
    "                response.error.message))"
   ]
  },
  {
   "cell_type": "code",
   "execution_count": 9,
   "metadata": {},
   "outputs": [
    {
     "name": "stdout",
     "output_type": "stream",
     "text": [
      "Texts:\n",
      "\n",
      "\"POnte sebre\n",
      "Rio Caveirat\n",
      "Extensde 102 m\n",
      "Google\n",
      "© Google\n",
      "\"\n",
      "bounds: (7,327),(637,327),(637,639),(7,639)\n",
      "\n",
      "\"POnte\"\n",
      "bounds: (478,328),(498,328),(498,333),(478,333)\n",
      "\n",
      "\"sebre\"\n",
      "bounds: (503,327),(519,327),(519,332),(503,332)\n",
      "\n",
      "\"Rio\"\n",
      "bounds: (473,337),(494,336),(494,343),(473,344)\n",
      "\n",
      "\"Caveirat\"\n",
      "bounds: (496,336),(520,335),(520,343),(496,344)\n",
      "\n",
      "\"Extensde\"\n",
      "bounds: (470,355),(504,354),(504,360),(470,361)\n",
      "\n",
      "\"102\"\n",
      "bounds: (509,353),(518,353),(518,359),(509,359)\n",
      "\n",
      "\"m\"\n",
      "bounds: (523,354),(527,354),(527,358),(523,358)\n",
      "\n",
      "\"Google\"\n",
      "bounds: (7,620),(59,620),(59,636),(7,636)\n",
      "\n",
      "\"©\"\n",
      "bounds: (602,627),(608,627),(608,637),(602,637)\n",
      "\n",
      "\"Google\"\n",
      "bounds: (610,627),(637,628),(637,639),(610,638)\n"
     ]
    }
   ],
   "source": [
    "detect_text('img_828_fwdAz_246.jpg')"
   ]
  }
 ],
 "metadata": {
  "interpreter": {
   "hash": "f8cbd83f12918eb840472159fa532511b0b0cc69f801e401c5d5d07440b4f85e"
  },
  "kernelspec": {
   "display_name": "Python 3.9.7 64-bit ('env1': virtualenv)",
   "language": "python",
   "name": "python3"
  },
  "language_info": {
   "codemirror_mode": {
    "name": "ipython",
    "version": 3
   },
   "file_extension": ".py",
   "mimetype": "text/x-python",
   "name": "python",
   "nbconvert_exporter": "python",
   "pygments_lexer": "ipython3",
   "version": "3.9.7"
  },
  "orig_nbformat": 4
 },
 "nbformat": 4,
 "nbformat_minor": 2
}
